{
 "cells": [
  {
   "source": [
    "# Cześć!"
   ],
   "cell_type": "markdown",
   "metadata": {}
  },
  {
   "source": [
    "Ten notebook przygotowaliśmy specjalnie dla Ciebie, żeby pokazać Ci jak może wyglądać przykładowa analiza danych z wykorzystaniem Pythona. **Narzędzie jest w pełni interaktywne, także śmiało moższ się bawić ** :) \n",
    "\n",
    "Na warsztat wzięliśmy dane dotyczące epidemii wirusa COVID-19.\n",
    "\n",
    "Gdybyś chciał taki notebook zainstalować u siebie na komputerze, to poniżej znajdziesz poradnik jak to zrobić:\n",
    "\n",
    "Zapraszamy też na naszą stronę: https://zostananalitykiemdanych.pl\n",
    "\n",
    "Pozdrawiamy!\n",
    "\n",
    "Piotr i Krzysztof"
   ],
   "cell_type": "markdown",
   "metadata": {}
  },
  {
   "source": [
    "## Wczytywanie danych"
   ],
   "cell_type": "markdown",
   "metadata": {}
  },
  {
   "source": [
    "Python może wczytywać dane z wielu różnych źródeł (plików, baz danych, serwerów www itp). Dlatego trzeba dobrać odpowiedna imetodę wczytywania do konkretnego źródła. Zaletą takiego podejścia jest to, że w Pythonie możemy łatwo łączyć ze sobą dane z wielu różnych miejsc.\n",
    "\n",
    "W naszym przykładzie dane wczytany z pliku .csv dostępnego pod następującym adresem ur:"
   ],
   "cell_type": "markdown",
   "metadata": {}
  },
  {
   "cell_type": "code",
   "execution_count": 27,
   "metadata": {},
   "outputs": [],
   "source": [
    "file_url = \"https://raw.githubusercontent.com/owid/covid-19-data/master/public/data/owid-covid-data.csv\""
   ]
  },
  {
   "cell_type": "code",
   "execution_count": 25,
   "id": "7aa32c90",
   "metadata": {},
   "outputs": [
    {
     "output_type": "execute_result",
     "data": {
      "text/plain": [
       "      iso_code continent     location        date  total_cases  new_cases  \\\n",
       "0          AFG      Asia  Afghanistan  2020-02-24          1.0        1.0   \n",
       "1          AFG      Asia  Afghanistan  2020-02-25          1.0        0.0   \n",
       "2          AFG      Asia  Afghanistan  2020-02-26          1.0        0.0   \n",
       "3          AFG      Asia  Afghanistan  2020-02-27          1.0        0.0   \n",
       "4          AFG      Asia  Afghanistan  2020-02-28          1.0        0.0   \n",
       "...        ...       ...          ...         ...          ...        ...   \n",
       "81432      ZWE    Africa     Zimbabwe  2021-04-09      37147.0       95.0   \n",
       "81433      ZWE    Africa     Zimbabwe  2021-04-10      37273.0      126.0   \n",
       "81434      ZWE    Africa     Zimbabwe  2021-04-11      37288.0       15.0   \n",
       "81435      ZWE    Africa     Zimbabwe  2021-04-12      37307.0       19.0   \n",
       "81436      ZWE    Africa     Zimbabwe  2021-04-13      37330.0       23.0   \n",
       "\n",
       "       new_cases_smoothed  total_deaths  new_deaths  new_deaths_smoothed  ...  \\\n",
       "0                     NaN           NaN         NaN                  NaN  ...   \n",
       "1                     NaN           NaN         NaN                  NaN  ...   \n",
       "2                     NaN           NaN         NaN                  NaN  ...   \n",
       "3                     NaN           NaN         NaN                  NaN  ...   \n",
       "4                     NaN           NaN         NaN                  NaN  ...   \n",
       "...                   ...           ...         ...                  ...  ...   \n",
       "81432              34.857        1535.0         3.0                1.571  ...   \n",
       "81433              51.714        1538.0         3.0                2.000  ...   \n",
       "81434              52.143        1538.0         0.0                1.857  ...   \n",
       "81435              53.286        1542.0         4.0                2.429  ...   \n",
       "81436              52.000        1543.0         1.0                1.714  ...   \n",
       "\n",
       "       gdp_per_capita  extreme_poverty  cardiovasc_death_rate  \\\n",
       "0            1803.987              NaN                597.029   \n",
       "1            1803.987              NaN                597.029   \n",
       "2            1803.987              NaN                597.029   \n",
       "3            1803.987              NaN                597.029   \n",
       "4            1803.987              NaN                597.029   \n",
       "...               ...              ...                    ...   \n",
       "81432        1899.775             21.4                307.846   \n",
       "81433        1899.775             21.4                307.846   \n",
       "81434        1899.775             21.4                307.846   \n",
       "81435        1899.775             21.4                307.846   \n",
       "81436        1899.775             21.4                307.846   \n",
       "\n",
       "       diabetes_prevalence  female_smokers  male_smokers  \\\n",
       "0                     9.59             NaN           NaN   \n",
       "1                     9.59             NaN           NaN   \n",
       "2                     9.59             NaN           NaN   \n",
       "3                     9.59             NaN           NaN   \n",
       "4                     9.59             NaN           NaN   \n",
       "...                    ...             ...           ...   \n",
       "81432                 1.82             1.6          30.7   \n",
       "81433                 1.82             1.6          30.7   \n",
       "81434                 1.82             1.6          30.7   \n",
       "81435                 1.82             1.6          30.7   \n",
       "81436                 1.82             1.6          30.7   \n",
       "\n",
       "       handwashing_facilities  hospital_beds_per_thousand  life_expectancy  \\\n",
       "0                      37.746                         0.5            64.83   \n",
       "1                      37.746                         0.5            64.83   \n",
       "2                      37.746                         0.5            64.83   \n",
       "3                      37.746                         0.5            64.83   \n",
       "4                      37.746                         0.5            64.83   \n",
       "...                       ...                         ...              ...   \n",
       "81432                  36.791                         1.7            61.49   \n",
       "81433                  36.791                         1.7            61.49   \n",
       "81434                  36.791                         1.7            61.49   \n",
       "81435                  36.791                         1.7            61.49   \n",
       "81436                  36.791                         1.7            61.49   \n",
       "\n",
       "       human_development_index  \n",
       "0                        0.511  \n",
       "1                        0.511  \n",
       "2                        0.511  \n",
       "3                        0.511  \n",
       "4                        0.511  \n",
       "...                        ...  \n",
       "81432                    0.571  \n",
       "81433                    0.571  \n",
       "81434                    0.571  \n",
       "81435                    0.571  \n",
       "81436                    0.571  \n",
       "\n",
       "[81437 rows x 59 columns]"
      ],
      "text/html": "<div>\n<style scoped>\n    .dataframe tbody tr th:only-of-type {\n        vertical-align: middle;\n    }\n\n    .dataframe tbody tr th {\n        vertical-align: top;\n    }\n\n    .dataframe thead th {\n        text-align: right;\n    }\n</style>\n<table border=\"1\" class=\"dataframe\">\n  <thead>\n    <tr style=\"text-align: right;\">\n      <th></th>\n      <th>iso_code</th>\n      <th>continent</th>\n      <th>location</th>\n      <th>date</th>\n      <th>total_cases</th>\n      <th>new_cases</th>\n      <th>new_cases_smoothed</th>\n      <th>total_deaths</th>\n      <th>new_deaths</th>\n      <th>new_deaths_smoothed</th>\n      <th>...</th>\n      <th>gdp_per_capita</th>\n      <th>extreme_poverty</th>\n      <th>cardiovasc_death_rate</th>\n      <th>diabetes_prevalence</th>\n      <th>female_smokers</th>\n      <th>male_smokers</th>\n      <th>handwashing_facilities</th>\n      <th>hospital_beds_per_thousand</th>\n      <th>life_expectancy</th>\n      <th>human_development_index</th>\n    </tr>\n  </thead>\n  <tbody>\n    <tr>\n      <th>0</th>\n      <td>AFG</td>\n      <td>Asia</td>\n      <td>Afghanistan</td>\n      <td>2020-02-24</td>\n      <td>1.0</td>\n      <td>1.0</td>\n      <td>NaN</td>\n      <td>NaN</td>\n      <td>NaN</td>\n      <td>NaN</td>\n      <td>...</td>\n      <td>1803.987</td>\n      <td>NaN</td>\n      <td>597.029</td>\n      <td>9.59</td>\n      <td>NaN</td>\n      <td>NaN</td>\n      <td>37.746</td>\n      <td>0.5</td>\n      <td>64.83</td>\n      <td>0.511</td>\n    </tr>\n    <tr>\n      <th>1</th>\n      <td>AFG</td>\n      <td>Asia</td>\n      <td>Afghanistan</td>\n      <td>2020-02-25</td>\n      <td>1.0</td>\n      <td>0.0</td>\n      <td>NaN</td>\n      <td>NaN</td>\n      <td>NaN</td>\n      <td>NaN</td>\n      <td>...</td>\n      <td>1803.987</td>\n      <td>NaN</td>\n      <td>597.029</td>\n      <td>9.59</td>\n      <td>NaN</td>\n      <td>NaN</td>\n      <td>37.746</td>\n      <td>0.5</td>\n      <td>64.83</td>\n      <td>0.511</td>\n    </tr>\n    <tr>\n      <th>2</th>\n      <td>AFG</td>\n      <td>Asia</td>\n      <td>Afghanistan</td>\n      <td>2020-02-26</td>\n      <td>1.0</td>\n      <td>0.0</td>\n      <td>NaN</td>\n      <td>NaN</td>\n      <td>NaN</td>\n      <td>NaN</td>\n      <td>...</td>\n      <td>1803.987</td>\n      <td>NaN</td>\n      <td>597.029</td>\n      <td>9.59</td>\n      <td>NaN</td>\n      <td>NaN</td>\n      <td>37.746</td>\n      <td>0.5</td>\n      <td>64.83</td>\n      <td>0.511</td>\n    </tr>\n    <tr>\n      <th>3</th>\n      <td>AFG</td>\n      <td>Asia</td>\n      <td>Afghanistan</td>\n      <td>2020-02-27</td>\n      <td>1.0</td>\n      <td>0.0</td>\n      <td>NaN</td>\n      <td>NaN</td>\n      <td>NaN</td>\n      <td>NaN</td>\n      <td>...</td>\n      <td>1803.987</td>\n      <td>NaN</td>\n      <td>597.029</td>\n      <td>9.59</td>\n      <td>NaN</td>\n      <td>NaN</td>\n      <td>37.746</td>\n      <td>0.5</td>\n      <td>64.83</td>\n      <td>0.511</td>\n    </tr>\n    <tr>\n      <th>4</th>\n      <td>AFG</td>\n      <td>Asia</td>\n      <td>Afghanistan</td>\n      <td>2020-02-28</td>\n      <td>1.0</td>\n      <td>0.0</td>\n      <td>NaN</td>\n      <td>NaN</td>\n      <td>NaN</td>\n      <td>NaN</td>\n      <td>...</td>\n      <td>1803.987</td>\n      <td>NaN</td>\n      <td>597.029</td>\n      <td>9.59</td>\n      <td>NaN</td>\n      <td>NaN</td>\n      <td>37.746</td>\n      <td>0.5</td>\n      <td>64.83</td>\n      <td>0.511</td>\n    </tr>\n    <tr>\n      <th>...</th>\n      <td>...</td>\n      <td>...</td>\n      <td>...</td>\n      <td>...</td>\n      <td>...</td>\n      <td>...</td>\n      <td>...</td>\n      <td>...</td>\n      <td>...</td>\n      <td>...</td>\n      <td>...</td>\n      <td>...</td>\n      <td>...</td>\n      <td>...</td>\n      <td>...</td>\n      <td>...</td>\n      <td>...</td>\n      <td>...</td>\n      <td>...</td>\n      <td>...</td>\n      <td>...</td>\n    </tr>\n    <tr>\n      <th>81432</th>\n      <td>ZWE</td>\n      <td>Africa</td>\n      <td>Zimbabwe</td>\n      <td>2021-04-09</td>\n      <td>37147.0</td>\n      <td>95.0</td>\n      <td>34.857</td>\n      <td>1535.0</td>\n      <td>3.0</td>\n      <td>1.571</td>\n      <td>...</td>\n      <td>1899.775</td>\n      <td>21.4</td>\n      <td>307.846</td>\n      <td>1.82</td>\n      <td>1.6</td>\n      <td>30.7</td>\n      <td>36.791</td>\n      <td>1.7</td>\n      <td>61.49</td>\n      <td>0.571</td>\n    </tr>\n    <tr>\n      <th>81433</th>\n      <td>ZWE</td>\n      <td>Africa</td>\n      <td>Zimbabwe</td>\n      <td>2021-04-10</td>\n      <td>37273.0</td>\n      <td>126.0</td>\n      <td>51.714</td>\n      <td>1538.0</td>\n      <td>3.0</td>\n      <td>2.000</td>\n      <td>...</td>\n      <td>1899.775</td>\n      <td>21.4</td>\n      <td>307.846</td>\n      <td>1.82</td>\n      <td>1.6</td>\n      <td>30.7</td>\n      <td>36.791</td>\n      <td>1.7</td>\n      <td>61.49</td>\n      <td>0.571</td>\n    </tr>\n    <tr>\n      <th>81434</th>\n      <td>ZWE</td>\n      <td>Africa</td>\n      <td>Zimbabwe</td>\n      <td>2021-04-11</td>\n      <td>37288.0</td>\n      <td>15.0</td>\n      <td>52.143</td>\n      <td>1538.0</td>\n      <td>0.0</td>\n      <td>1.857</td>\n      <td>...</td>\n      <td>1899.775</td>\n      <td>21.4</td>\n      <td>307.846</td>\n      <td>1.82</td>\n      <td>1.6</td>\n      <td>30.7</td>\n      <td>36.791</td>\n      <td>1.7</td>\n      <td>61.49</td>\n      <td>0.571</td>\n    </tr>\n    <tr>\n      <th>81435</th>\n      <td>ZWE</td>\n      <td>Africa</td>\n      <td>Zimbabwe</td>\n      <td>2021-04-12</td>\n      <td>37307.0</td>\n      <td>19.0</td>\n      <td>53.286</td>\n      <td>1542.0</td>\n      <td>4.0</td>\n      <td>2.429</td>\n      <td>...</td>\n      <td>1899.775</td>\n      <td>21.4</td>\n      <td>307.846</td>\n      <td>1.82</td>\n      <td>1.6</td>\n      <td>30.7</td>\n      <td>36.791</td>\n      <td>1.7</td>\n      <td>61.49</td>\n      <td>0.571</td>\n    </tr>\n    <tr>\n      <th>81436</th>\n      <td>ZWE</td>\n      <td>Africa</td>\n      <td>Zimbabwe</td>\n      <td>2021-04-13</td>\n      <td>37330.0</td>\n      <td>23.0</td>\n      <td>52.000</td>\n      <td>1543.0</td>\n      <td>1.0</td>\n      <td>1.714</td>\n      <td>...</td>\n      <td>1899.775</td>\n      <td>21.4</td>\n      <td>307.846</td>\n      <td>1.82</td>\n      <td>1.6</td>\n      <td>30.7</td>\n      <td>36.791</td>\n      <td>1.7</td>\n      <td>61.49</td>\n      <td>0.571</td>\n    </tr>\n  </tbody>\n</table>\n<p>81437 rows × 59 columns</p>\n</div>"
     },
     "metadata": {},
     "execution_count": 25
    }
   ],
   "source": [
    "import pandas as pd \n",
    "\n",
    "data = pd.read_csv(file_url)\n",
    "data"
   ]
  },
  {
   "cell_type": "code",
   "execution_count": 26,
   "id": "77e9dff9",
   "metadata": {},
   "outputs": [
    {
     "output_type": "stream",
     "name": "stdout",
     "text": [
      "<class 'pandas.core.frame.DataFrame'>\nRangeIndex: 81437 entries, 0 to 81436\nData columns (total 59 columns):\n #   Column                                 Non-Null Count  Dtype  \n---  ------                                 --------------  -----  \n 0   iso_code                               81437 non-null  object \n 1   continent                              77479 non-null  object \n 2   location                               81437 non-null  object \n 3   date                                   81437 non-null  object \n 4   total_cases                            79689 non-null  float64\n 5   new_cases                              79687 non-null  float64\n 6   new_cases_smoothed                     78686 non-null  float64\n 7   total_deaths                           70168 non-null  float64\n 8   new_deaths                             70326 non-null  float64\n 9   new_deaths_smoothed                    78686 non-null  float64\n 10  total_cases_per_million                79257 non-null  float64\n 11  new_cases_per_million                  79255 non-null  float64\n 12  new_cases_smoothed_per_million         78259 non-null  float64\n 13  total_deaths_per_million               69749 non-null  float64\n 14  new_deaths_per_million                 69907 non-null  float64\n 15  new_deaths_smoothed_per_million        78259 non-null  float64\n 16  reproduction_rate                      65848 non-null  float64\n 17  icu_patients                           8456 non-null   float64\n 18  icu_patients_per_million               8456 non-null   float64\n 19  hosp_patients                          10127 non-null  float64\n 20  hosp_patients_per_million              10127 non-null  float64\n 21  weekly_icu_admissions                  743 non-null    float64\n 22  weekly_icu_admissions_per_million      743 non-null    float64\n 23  weekly_hosp_admissions                 1240 non-null   float64\n 24  weekly_hosp_admissions_per_million     1240 non-null   float64\n 25  new_tests                              37291 non-null  float64\n 26  total_tests                            37012 non-null  float64\n 27  total_tests_per_thousand               37012 non-null  float64\n 28  new_tests_per_thousand                 37291 non-null  float64\n 29  new_tests_smoothed                     42644 non-null  float64\n 30  new_tests_smoothed_per_thousand        42644 non-null  float64\n 31  positive_rate                          41307 non-null  float64\n 32  tests_per_case                         40689 non-null  float64\n 33  tests_units                            44051 non-null  object \n 34  total_vaccinations                     7313 non-null   float64\n 35  people_vaccinated                      6636 non-null   float64\n 36  people_fully_vaccinated                4759 non-null   float64\n 37  new_vaccinations                       6182 non-null   float64\n 38  new_vaccinations_smoothed              11750 non-null  float64\n 39  total_vaccinations_per_hundred         7313 non-null   float64\n 40  people_vaccinated_per_hundred          6636 non-null   float64\n 41  people_fully_vaccinated_per_hundred    4759 non-null   float64\n 42  new_vaccinations_smoothed_per_million  11750 non-null  float64\n 43  stringency_index                       69577 non-null  float64\n 44  population                             80934 non-null  float64\n 45  population_density                     75881 non-null  float64\n 46  median_age                             73524 non-null  float64\n 47  aged_65_older                          72682 non-null  float64\n 48  aged_70_older                          73111 non-null  float64\n 49  gdp_per_capita                         73839 non-null  float64\n 50  extreme_poverty                        50339 non-null  float64\n 51  cardiovasc_death_rate                  74470 non-null  float64\n 52  diabetes_prevalence                    75473 non-null  float64\n 53  female_smokers                         58402 non-null  float64\n 54  male_smokers                           57540 non-null  float64\n 55  handwashing_facilities                 37392 non-null  float64\n 56  hospital_beds_per_thousand             68013 non-null  float64\n 57  life_expectancy                        77312 non-null  float64\n 58  human_development_index                74368 non-null  float64\ndtypes: float64(54), object(5)\nmemory usage: 36.7+ MB\n"
     ]
    }
   ],
   "source": [
    "data.info()"
   ]
  },
  {
   "cell_type": "code",
   "execution_count": null,
   "metadata": {},
   "outputs": [],
   "source": []
  }
 ],
 "metadata": {
  "kernelspec": {
   "name": "python386jvsc74a57bd09e5c3c6e6dd43a62481f714682bbe5dcad3536ca4ce4d3a1c5cf792c5f5c8ef2",
   "display_name": "Python 3.8.6 64-bit ('venv')"
  },
  "language_info": {
   "codemirror_mode": {
    "name": "ipython",
    "version": 3
   },
   "file_extension": ".py",
   "mimetype": "text/x-python",
   "name": "python",
   "nbconvert_exporter": "python",
   "pygments_lexer": "ipython3",
   "version": "3.8.6-final"
  }
 },
 "nbformat": 4,
 "nbformat_minor": 5
}